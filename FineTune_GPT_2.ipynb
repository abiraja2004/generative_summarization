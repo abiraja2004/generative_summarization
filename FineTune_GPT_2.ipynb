{
  "nbformat": 4,
  "nbformat_minor": 0,
  "metadata": {
    "colab": {
      "name": "FineTune_GPT-2.ipynb",
      "version": "0.3.2",
      "provenance": [],
      "collapsed_sections": [],
      "include_colab_link": true
    },
    "kernelspec": {
      "name": "python3",
      "display_name": "Python 3"
    },
    "accelerator": "GPU"
  },
  "cells": [
    {
      "cell_type": "markdown",
      "metadata": {
        "id": "view-in-github",
        "colab_type": "text"
      },
      "source": [
        "<a href=\"https://colab.research.google.com/github/DeepOzean/generative_summarization/blob/master/FineTune_GPT_2.ipynb\" target=\"_parent\"><img src=\"https://colab.research.google.com/assets/colab-badge.svg\" alt=\"Open In Colab\"/></a>"
      ]
    },
    {
      "cell_type": "code",
      "metadata": {
        "id": "bBeVJa2JvTro",
        "colab_type": "code",
        "colab": {}
      },
      "source": [
        "import json\n",
        "import gzip\n",
        "import math\n",
        "import numpy as np\n",
        "import pandas as pd\n",
        "\n",
        "train_test_split = 0.95"
      ],
      "execution_count": 0,
      "outputs": []
    },
    {
      "cell_type": "code",
      "metadata": {
        "id": "xNbrc20oG2P9",
        "colab_type": "code",
        "outputId": "1deed3e3-f67f-46f5-9712-d643bfd02e58",
        "colab": {
          "base_uri": "https://localhost:8080/",
          "height": 134
        }
      },
      "source": [
        "!git clone -b gpt2 https://github.com/DeepOzean/generative_summarization.git gpt-2"
      ],
      "execution_count": 2,
      "outputs": [
        {
          "output_type": "stream",
          "text": [
            "Cloning into 'gpt-2'...\n",
            "remote: Enumerating objects: 264, done.\u001b[K\n",
            "remote: Counting objects: 100% (264/264), done.\u001b[K\n",
            "remote: Compressing objects: 100% (129/129), done.\u001b[K\n",
            "remote: Total 264 (delta 136), reused 249 (delta 129), pack-reused 0\u001b[K\n",
            "Receiving objects: 100% (264/264), 4.39 MiB | 6.54 MiB/s, done.\n",
            "Resolving deltas: 100% (136/136), done.\n"
          ],
          "name": "stdout"
        }
      ]
    },
    {
      "cell_type": "code",
      "metadata": {
        "id": "q3xL3S6tvZMl",
        "colab_type": "code",
        "colab": {}
      },
      "source": [
        "def parse(path):\n",
        "    g = gzip.open(path, 'r')\n",
        "    for l in g:\n",
        "        yield eval(l)\n",
        "\n",
        "def getDF(path):\n",
        "  i = 0\n",
        "  df = {}\n",
        "  for d in parse(path):\n",
        "    df[i] = d\n",
        "    i += 1\n",
        "  return pd.DataFrame.from_dict(df, orient='index')"
      ],
      "execution_count": 0,
      "outputs": []
    },
    {
      "cell_type": "code",
      "metadata": {
        "id": "1KoY5gMG0co0",
        "colab_type": "code",
        "outputId": "39ca0493-3ae7-4bde-e852-db26a03081af",
        "colab": {
          "base_uri": "https://localhost:8080/",
          "height": 33
        }
      },
      "source": [
        "cd gpt-2"
      ],
      "execution_count": 4,
      "outputs": [
        {
          "output_type": "stream",
          "text": [
            "/content/gpt-2\n"
          ],
          "name": "stdout"
        }
      ]
    },
    {
      "cell_type": "code",
      "metadata": {
        "id": "B6OFEfnB0feA",
        "colab_type": "code",
        "outputId": "57570b42-74a3-4683-ba78-dbb185aea037",
        "colab": {
          "base_uri": "https://localhost:8080/",
          "height": 652
        }
      },
      "source": [
        "!pip3 install -r requirements.txt\n",
        "!python download_model.py 117M"
      ],
      "execution_count": 5,
      "outputs": [
        {
          "output_type": "stream",
          "text": [
            "Collecting fire>=0.1.3 (from -r requirements.txt (line 1))\n",
            "  Downloading https://files.pythonhosted.org/packages/5a/b7/205702f348aab198baecd1d8344a90748cb68f53bdcd1cc30cbc08e47d3e/fire-0.1.3.tar.gz\n",
            "Collecting regex==2017.4.5 (from -r requirements.txt (line 2))\n",
            "\u001b[?25l  Downloading https://files.pythonhosted.org/packages/36/62/c0c0d762ffd4ffaf39f372eb8561b8d491a11ace5a7884610424a8b40f95/regex-2017.04.05.tar.gz (601kB)\n",
            "\u001b[K     |████████████████████████████████| 604kB 17.8MB/s \n",
            "\u001b[?25hRequirement already satisfied: requests==2.21.0 in /usr/local/lib/python3.6/dist-packages (from -r requirements.txt (line 3)) (2.21.0)\n",
            "Collecting tqdm==4.31.1 (from -r requirements.txt (line 4))\n",
            "\u001b[?25l  Downloading https://files.pythonhosted.org/packages/6c/4b/c38b5144cf167c4f52288517436ccafefe9dc01b8d1c190e18a6b154cd4a/tqdm-4.31.1-py2.py3-none-any.whl (48kB)\n",
            "\u001b[K     |████████████████████████████████| 51kB 21.5MB/s \n",
            "\u001b[?25hCollecting toposort==1.5 (from -r requirements.txt (line 5))\n",
            "  Downloading https://files.pythonhosted.org/packages/e9/8a/321cd8ea5f4a22a06e3ba30ef31ec33bea11a3443eeb1d89807640ee6ed4/toposort-1.5-py2.py3-none-any.whl\n",
            "Requirement already satisfied: six in /usr/local/lib/python3.6/dist-packages (from fire>=0.1.3->-r requirements.txt (line 1)) (1.12.0)\n",
            "Requirement already satisfied: urllib3<1.25,>=1.21.1 in /usr/local/lib/python3.6/dist-packages (from requests==2.21.0->-r requirements.txt (line 3)) (1.24.3)\n",
            "Requirement already satisfied: chardet<3.1.0,>=3.0.2 in /usr/local/lib/python3.6/dist-packages (from requests==2.21.0->-r requirements.txt (line 3)) (3.0.4)\n",
            "Requirement already satisfied: certifi>=2017.4.17 in /usr/local/lib/python3.6/dist-packages (from requests==2.21.0->-r requirements.txt (line 3)) (2019.3.9)\n",
            "Requirement already satisfied: idna<2.9,>=2.5 in /usr/local/lib/python3.6/dist-packages (from requests==2.21.0->-r requirements.txt (line 3)) (2.8)\n",
            "Building wheels for collected packages: fire, regex\n",
            "  Building wheel for fire (setup.py) ... \u001b[?25l\u001b[?25hdone\n",
            "  Stored in directory: /root/.cache/pip/wheels/2a/1a/4d/6b30377c3051e76559d1185c1dbbfff15aed31f87acdd14c22\n",
            "  Building wheel for regex (setup.py) ... \u001b[?25l\u001b[?25hdone\n",
            "  Stored in directory: /root/.cache/pip/wheels/75/07/38/3c16b529d50cb4e0cd3dbc7b75cece8a09c132692c74450b01\n",
            "Successfully built fire regex\n",
            "\u001b[31mERROR: spacy 2.0.18 has requirement regex==2018.01.10, but you'll have regex 2017.4.5 which is incompatible.\u001b[0m\n",
            "Installing collected packages: fire, regex, tqdm, toposort\n",
            "  Found existing installation: regex 2018.1.10\n",
            "    Uninstalling regex-2018.1.10:\n",
            "      Successfully uninstalled regex-2018.1.10\n",
            "  Found existing installation: tqdm 4.28.1\n",
            "    Uninstalling tqdm-4.28.1:\n",
            "      Successfully uninstalled tqdm-4.28.1\n",
            "Successfully installed fire-0.1.3 regex-2017.4.5 toposort-1.5 tqdm-4.31.1\n",
            "Fetching checkpoint: 1.00kit [00:00, 631kit/s]                                                      \n",
            "Fetching encoder.json: 1.04Mit [00:00, 36.1Mit/s]                                                   \n",
            "Fetching hparams.json: 1.00kit [00:00, 868kit/s]                                                    \n",
            "Fetching model.ckpt.data-00000-of-00001: 498Mit [00:10, 47.9Mit/s]                                  \n",
            "Fetching model.ckpt.index: 6.00kit [00:00, 3.56Mit/s]                                               \n",
            "Fetching model.ckpt.meta: 472kit [00:00, 34.0Mit/s]                                                 \n",
            "Fetching vocab.bpe: 457kit [00:00, 33.5Mit/s]                                                       \n"
          ],
          "name": "stdout"
        }
      ]
    },
    {
      "cell_type": "code",
      "metadata": {
        "id": "SvOLAs9OveyY",
        "colab_type": "code",
        "outputId": "da305525-de1b-4ff7-ae14-be05fda3628e",
        "colab": {
          "base_uri": "https://localhost:8080/",
          "height": 164
        }
      },
      "source": [
        "!wget http://snap.stanford.edu/data/amazon/productGraph/categoryFiles/reviews_Sports_and_Outdoors_5.json.gz"
      ],
      "execution_count": 0,
      "outputs": [
        {
          "output_type": "stream",
          "text": [
            "--2019-05-23 12:50:05--  http://snap.stanford.edu/data/amazon/productGraph/categoryFiles/reviews_Sports_and_Outdoors_5.json.gz\n",
            "Resolving snap.stanford.edu (snap.stanford.edu)... 171.64.75.80\n",
            "Connecting to snap.stanford.edu (snap.stanford.edu)|171.64.75.80|:80... connected.\n",
            "HTTP request sent, awaiting response... 200 OK\n",
            "Length: 68275834 (65M) [application/x-gzip]\n",
            "Saving to: ‘reviews_Sports_and_Outdoors_5.json.gz’\n",
            "\n",
            "ports_and_Outdoors_  46%[========>           ]  29.96M  6.28MB/s    eta 6s     "
          ],
          "name": "stdout"
        }
      ]
    },
    {
      "cell_type": "code",
      "metadata": {
        "id": "4FvPkndgwRnj",
        "colab_type": "code",
        "colab": {}
      },
      "source": [
        "df = getDF('reviews_Sports_and_Outdoors_5.json.gz')"
      ],
      "execution_count": 0,
      "outputs": []
    },
    {
      "cell_type": "code",
      "metadata": {
        "id": "lcwV5w2Pwdex",
        "colab_type": "code",
        "colab": {}
      },
      "source": [
        "df_reviewText = df['reviewText']\n",
        "n = len(df_reviewText)\n",
        "n_train = int(np.floor(n*train_test_split))\n",
        "df_reviewText_train = df_reviewText[0:n_train]\n",
        "df_reviewText_test = df_reviewText[n_train+1:]"
      ],
      "execution_count": 0,
      "outputs": []
    },
    {
      "cell_type": "code",
      "metadata": {
        "id": "-6mNTjAawlIj",
        "colab_type": "code",
        "colab": {}
      },
      "source": [
        "df_summary = df['summary']\n",
        "df_summary_train = df_summary[0:n_train]\n",
        "df_summary_test = df_summary[n_train+1:]"
      ],
      "execution_count": 0,
      "outputs": []
    },
    {
      "cell_type": "code",
      "metadata": {
        "id": "GgFh7gEVr3ZK",
        "colab_type": "code",
        "colab": {}
      },
      "source": [
        "df_summary.head(20)"
      ],
      "execution_count": 0,
      "outputs": []
    },
    {
      "cell_type": "code",
      "metadata": {
        "id": "MtfO1_cWxN20",
        "colab_type": "code",
        "colab": {}
      },
      "source": [
        "corpus = ''\n",
        "for i in range(len(df_summary_train)):\n",
        "  corpus += df_reviewText_train[i]\n",
        "  corpus += ' TL;DR: '\n",
        "  corpus += df_summary_train[i]\n",
        "  corpus += ' [End] '\n",
        "  corpus += '\\n'\n",
        "corpus += '\\n\\n'\n",
        "\n",
        "with open('review_and_summary.txt', 'w') as f:\n",
        "  f.write(corpus)\n",
        "  \n",
        "!PYTHONPATH=src ./encode.py review_and_summary.txt review_and_summary.txt.npz"
      ],
      "execution_count": 0,
      "outputs": []
    },
    {
      "cell_type": "code",
      "metadata": {
        "id": "Ayzs1VY5zwFA",
        "colab_type": "code",
        "colab": {}
      },
      "source": [
        "corpus_test = ''\n",
        "for review in df_reviewText_test:\n",
        "  corpus_test += review\n",
        "  corpus_test += ' TL;DR: '\n",
        "  corpus_test += '\\n'\n",
        "corpus_test += '\\n\\n'\n",
        "\n",
        "with open('review_test.txt', 'w') as f:\n",
        "  f.write(corpus_test)"
      ],
      "execution_count": 0,
      "outputs": []
    },
    {
      "cell_type": "code",
      "metadata": {
        "id": "eZ7jLxwJOVkH",
        "colab_type": "code",
        "colab": {}
      },
      "source": [
        "corpus_test_conditioning = ''\n",
        "count = 0\n",
        "for i in range(n_train+1,n_train+len(df_reviewText_test)):\n",
        "  corpus_test_conditioning += df_reviewText_test[i]\n",
        "  corpus_test_conditioning += ' TL;DR: '\n",
        "  corpus_test_conditioning += df_summary_test[i]\n",
        "  corpus_test_conditioning += ' [End] '\n",
        "  if i % 5 == 0:\n",
        "    corpus_test_conditioning += df_reviewText_test[i]\n",
        "    corpus_test_conditioning += ' TL;DR: '\n",
        "    corpus_test_conditioning += '\\n'\n",
        "corpus_test_conditioning += '\\n\\n'\n",
        "\n",
        "with open('review_test_conditioning.txt', 'w') as f:\n",
        "  f.write(corpus_test_conditioning)"
      ],
      "execution_count": 0,
      "outputs": []
    },
    {
      "cell_type": "code",
      "metadata": {
        "id": "8njOGhazPkXv",
        "colab_type": "code",
        "colab": {}
      },
      "source": [
        "print(corpus_test_conditioning)"
      ],
      "execution_count": 0,
      "outputs": []
    },
    {
      "cell_type": "code",
      "metadata": {
        "id": "G2EQ2cGE012U",
        "colab_type": "code",
        "colab": {}
      },
      "source": [
        "!PYTHONPATH=src ./train.py --dataset review_and_summary.txt.npz --sample_every=500 --learning_rate=0.0001 --stop_after=2500"
      ],
      "execution_count": 0,
      "outputs": []
    },
    {
      "cell_type": "code",
      "metadata": {
        "id": "Ceo2iaFc1q_D",
        "colab_type": "code",
        "colab": {}
      },
      "source": [
        "!cp -r /content/gpt-2/checkpoint/run1/* /content/gpt-2/models/117M/"
      ],
      "execution_count": 0,
      "outputs": []
    },
    {
      "cell_type": "code",
      "metadata": {
        "id": "rMS7AKIT4_lo",
        "colab_type": "code",
        "colab": {}
      },
      "source": [
        "#!python3 src/interactive_conditional_samples_read_file.py --file review_test.txt --top_k 4 --temperature 0.1 --length 100 --nsamples 3"
      ],
      "execution_count": 0,
      "outputs": []
    },
    {
      "cell_type": "code",
      "metadata": {
        "id": "y0erhtrmBfNF",
        "colab_type": "code",
        "colab": {}
      },
      "source": [
        "!python3 src/interactive_conditional_samples_read_file.py --file review_test_conditioning.txt --top_k 40 --temperature 0.9 --length 1000 --nsamples 3"
      ],
      "execution_count": 0,
      "outputs": []
    },
    {
      "cell_type": "code",
      "metadata": {
        "id": "QA2DWmDsW7Qt",
        "colab_type": "code",
        "colab": {}
      },
      "source": [
        ""
      ],
      "execution_count": 0,
      "outputs": []
    }
  ]
}